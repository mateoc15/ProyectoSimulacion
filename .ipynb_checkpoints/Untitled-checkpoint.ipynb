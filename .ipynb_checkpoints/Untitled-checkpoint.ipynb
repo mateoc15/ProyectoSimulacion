{
 "cells": [
  {
   "cell_type": "code",
   "execution_count": 1,
   "metadata": {},
   "outputs": [],
   "source": [
    "import pandas as pd\n",
    "import matplotlib.pyplot as plt\n",
    "import numpy as np\n",
    "from scipy import stats\n",
    "#Algunas advertencias que queremos evitar\n",
    "import warnings\n",
    "warnings.filterwarnings(\"always\")\n",
    "\n"
   ]
  },
  {
   "cell_type": "code",
   "execution_count": 2,
   "metadata": {},
   "outputs": [],
   "source": [
    "#Esto solo se hace una vez, es para generar un archivo con las 10000 muestras aleatorias, para que trabajemos siempre\n",
    "#con el mismo conjunto de muestras\n",
    "\n",
    "#dataset = pd.read_csv('DB/Features_Variant_1.csv', sep=(','), header= None,  engine='python')\n",
    "#s = dataset.sample(n=10000)\n",
    "#s.to_csv(path_or_buf = 'DB/data-selected')"
   ]
  },
  {
   "cell_type": "code",
   "execution_count": 3,
   "metadata": {
    "scrolled": true
   },
   "outputs": [
    {
     "name": "stdout",
     "output_type": "stream",
     "text": [
      "(10000, 53)\n",
      "(10000,)\n"
     ]
    }
   ],
   "source": [
    "dataset_red = pd.read_csv('DB/data-selected.txt',  engine='python')\n",
    "\n",
    "#Se carga la base de datos \n",
    "X = dataset_red.iloc[:,1:54]\n",
    "Y = dataset_red.iloc[:,54]\n",
    "print(np.shape(X))\n",
    "print(np.shape(Y))\n"
   ]
  },
  {
   "cell_type": "code",
   "execution_count": null,
   "metadata": {},
   "outputs": [],
   "source": [
    "\n"
   ]
  },
  {
   "cell_type": "code",
   "execution_count": 4,
   "metadata": {},
   "outputs": [],
   "source": [
    "#Mean Absolute Percentage Error para los problemas de regresión\n",
    "def MAPE(Y_est,Y):\n",
    "    ind = Y != 0 #Remueve los elementos que son cero en la variable deseada\n",
    "    N = np.size(Y[ind])\n",
    "    mape = np.sum(abs((Y_est[ind].reshape(N,1) - Y[ind].reshape(N,1))/(Y[ind].reshape(N,1)+np.finfo(np.float).eps)))/N\n",
    "    return mape "
   ]
  },
  {
   "cell_type": "code",
   "execution_count": 6,
   "metadata": {},
   "outputs": [
    {
     "name": "stdout",
     "output_type": "stream",
     "text": [
      "\n",
      "Error de validación: 0.7832212650826126 +/- 0.04637514561531694\n",
      "\n",
      "\n",
      "Tiempo total de ejecución: 68.75398302078247 segundos.\n",
      "\n",
      "\n",
      "Eficiencia del modelo: 10.436070454768611 %\n",
      "Porcentaje de vectores de soporte\n",
      "1.5050222222222223\n"
     ]
    }
   ],
   "source": [
    "#MAQUINAS DE VECTORES DE SOPORTE\n",
    "from sklearn.model_selection import KFold\n",
    "from sklearn import preprocessing\n",
    "from sklearn.svm import SVR\n",
    "import time\n",
    "tiempo_i = time.time()\n",
    "\n",
    "\n",
    "\n",
    "\n",
    "#Complete el código para crear el modelo SVM para regresión. \n",
    "#Use un kernel rbf con una malla de valores así: C en  y gamma en {0.0001, 0.1}\n",
    "clf = SVR(kernel='rbf', degree=4, C=0.001, gamma=0.01)\n",
    "\n",
    "#Implemetamos la metodología de validación cross validation con 10 folds\n",
    "Folds = 10\n",
    "Errores = np.ones(Folds)\n",
    "Scores = np.ones(Folds)\n",
    "\n",
    "j = 0\n",
    "sum = 0\n",
    "kf = KFold(n_splits=Folds)\n",
    "\n",
    "for train_index, test_index in kf.split(X):\n",
    "        \n",
    "    X_train, X_test = X.iloc[train_index], X.iloc[test_index]\n",
    "    y_train, y_test = Y.iloc[train_index], Y.iloc[test_index]  \n",
    "       \n",
    "    #Complete el código\n",
    "    \n",
    "    #Normalizamos los datos\n",
    "    scaler = preprocessing.StandardScaler().fit(X_train)\n",
    "    X_train = scaler.transform(X_train)\n",
    "    X_test = scaler.transform(X_test)\n",
    "    \n",
    "    \n",
    "    # Entrenar el modelo\n",
    "    modelo = clf.fit(X_train, y_train)\n",
    "    \n",
    "    \n",
    "    # Validación del modelo\n",
    "    ypred = modelo.predict(X_test)\n",
    "    \n",
    "    sum = sum + int((np.shape(np.unique(modelo.support_)))[0])\n",
    "    \n",
    "    ytes= y_test.values\n",
    "    Errores[j] = MAPE(ypred, ytes)\n",
    "    Scores[j] = modelo.score(X_test, y_test)\n",
    "    j+=1\n",
    "    \n",
    "print(\"\\nError de validación: \" + str(np.mean(Errores)) + \" +/- \" + str(np.std(Errores)))\n",
    "\n",
    "print (\"\\n\\nTiempo total de ejecución: \" + str(time.time()-tiempo_i) + \" segundos.\")\n",
    "print (\"\\n\\nEficiencia del modelo: \" + str(np.mean(Scores)*100) + \" %\")\n",
    "print(\"Porcentaje de vectores de soporte\")\n",
    "print ( (sum/5)/(np.shape(X_train)[0]))"
   ]
  },
  {
   "cell_type": "code",
   "execution_count": null,
   "metadata": {},
   "outputs": [],
   "source": [
    "import pandas as pd\n",
    "import qgrid\n",
    "df_types = pd.DataFrame({\n",
    "    'Kernel' : pd.Series(['lineal','lineal','lineal','lineal','lineal','lineal','rbf','rbf','rbf','rbf','rbf','rbf','rbf','rbf','rbf','rbf','rbf','rbf','rbf','rbf','rbf','rbf','rbf','rbf']),\n",
    "    'C' : pd.Series([0.001,0.01,0.1,1,10,100,0.001,0.001,0.001,0.01,0.01,0.01,0.1,0.1,0.1,1,1,1,10,10,10,100,100,100]),\n",
    "    'gamma' : pd.Series([0,0,0,0,0,0,0.01,0.1,1,0.01,0.1,1,0.01,0.1,1,0.01,0.1,1,0.01,0.1,1,0.01,0.1,1])})\n",
    "df_types[\"MAPE Promedio\"] = \"\"\n",
    "df_types[\"Intervalo de confianza\"] = \"\"\n",
    "df_types[\"% de Vectores de Soporte\"] = \"\"\n",
    "df_types.set_index(['Kernel','C','gamma'], inplace=True)\n",
    "df_types[\"MAPE Promedio\"][23] = \"0.2259\"\n",
    "df_types[\"Intervalo de confianza\"][23] = \"0.1109\"\n",
    "df_types[\"% de Vectores de Soporte\"][23] = \"0.2191\"\n",
    "#df_types.sort_index(inplace=True)\n",
    "qgrid_widget = qgrid.show_grid(df_types, show_toolbar=False)\n",
    "qgrid_widget"
   ]
  },
  {
   "cell_type": "code",
   "execution_count": null,
   "metadata": {},
   "outputs": [],
   "source": [
    "qgrid_widget.get_changed_df()\n"
   ]
  },
  {
   "cell_type": "code",
   "execution_count": null,
   "metadata": {},
   "outputs": [],
   "source": []
  },
  {
   "cell_type": "code",
   "execution_count": null,
   "metadata": {},
   "outputs": [],
   "source": []
  },
  {
   "cell_type": "code",
   "execution_count": null,
   "metadata": {},
   "outputs": [],
   "source": []
  }
 ],
 "metadata": {
  "kernelspec": {
   "display_name": "Python 3",
   "language": "python",
   "name": "python3"
  },
  "language_info": {
   "codemirror_mode": {
    "name": "ipython",
    "version": 3
   },
   "file_extension": ".py",
   "mimetype": "text/x-python",
   "name": "python",
   "nbconvert_exporter": "python",
   "pygments_lexer": "ipython3",
   "version": "3.6.5"
  }
 },
 "nbformat": 4,
 "nbformat_minor": 2
}
