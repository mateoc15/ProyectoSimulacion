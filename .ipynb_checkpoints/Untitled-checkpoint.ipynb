{
 "cells": [
  {
   "cell_type": "code",
   "execution_count": 1,
   "metadata": {},
   "outputs": [],
   "source": [
    "import pandas as pd\n",
    "import matplotlib.pyplot as plt\n",
    "import numpy as np\n",
    "from scipy import stats\n",
    "#Algunas advertencias que queremos evitar\n",
    "import warnings\n",
    "warnings.filterwarnings(\"always\")\n",
    "\n"
   ]
  },
  {
   "cell_type": "code",
   "execution_count": 2,
   "metadata": {},
   "outputs": [],
   "source": [
    "#Esto solo se hace una vez, es para generar un archivo con las 10000 muestras aleatorias, para que trabajemos siempre\n",
    "#con el mismo conjunto de muestras\n",
    "\n",
    "#dataset = pd.read_csv('DB/Features_Variant_1.csv', sep=(','), header= None,  engine='python')\n",
    "#s = dataset.sample(n=10000)\n",
    "#s.to_csv(path_or_buf = 'DB/data-selected')"
   ]
  },
  {
   "cell_type": "code",
   "execution_count": 3,
   "metadata": {
    "scrolled": true
   },
   "outputs": [
    {
     "name": "stdout",
     "output_type": "stream",
     "text": [
      "(10000, 53)\n",
      "(10000,)\n"
     ]
    }
   ],
   "source": [
    "dataset_red = pd.read_csv('DB/data-selected',  engine='python')\n",
    "\n",
    "#Se carga la base de datos \n",
    "X = dataset_red.iloc[:,1:54]\n",
    "Y = dataset_red.iloc[:,54]\n",
    "print(np.shape(X))\n",
    "print(np.shape(Y))\n"
   ]
  },
  {
   "cell_type": "code",
   "execution_count": null,
   "metadata": {},
   "outputs": [],
   "source": [
    "from sklearn.model_selection import cross_val_score\n",
    "from sklearn.model_selection import train_test_split\n",
    "from sklearn.svm import SVR\n",
    "\n",
    "\n",
    "#Técnicas de validacion\n",
    "\n",
    "#bootstrap\n",
    "#X_train, X_test, y_train, y_test = train_test_split(\n",
    " #   X, Y, test_size=0.3, random_state=0)\n",
    "\n",
    "\n",
    "#Crossvalidation\n",
    "#clf = SVR(kernel='linear', C=1)\n",
    "#scores = cross_val_score(clf, X, Y, cv=5)\n",
    "#scores\n"
   ]
  },
  {
   "cell_type": "code",
   "execution_count": 6,
   "metadata": {},
   "outputs": [],
   "source": []
  },
  {
   "cell_type": "code",
   "execution_count": 7,
   "metadata": {},
   "outputs": [],
   "source": []
  },
  {
   "cell_type": "code",
   "execution_count": null,
   "metadata": {},
   "outputs": [],
   "source": [
    "\n"
   ]
  },
  {
   "cell_type": "code",
   "execution_count": null,
   "metadata": {},
   "outputs": [],
   "source": []
  },
  {
   "cell_type": "code",
   "execution_count": null,
   "metadata": {},
   "outputs": [],
   "source": []
  },
  {
   "cell_type": "code",
   "execution_count": null,
   "metadata": {},
   "outputs": [],
   "source": []
  }
 ],
 "metadata": {
  "kernelspec": {
   "display_name": "Python 3",
   "language": "python",
   "name": "python3"
  },
  "language_info": {
   "codemirror_mode": {
    "name": "ipython",
    "version": 3
   },
   "file_extension": ".py",
   "mimetype": "text/x-python",
   "name": "python",
   "nbconvert_exporter": "python",
   "pygments_lexer": "ipython3",
   "version": "3.6.5"
  }
 },
 "nbformat": 4,
 "nbformat_minor": 2
}
